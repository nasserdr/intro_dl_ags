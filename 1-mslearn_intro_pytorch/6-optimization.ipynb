{
  "cells": [
    {
      "cell_type": "markdown",
      "source": [
        "# Optimizing the model parameters\n",
        "\n",
        "Now that we have a model and data it's time to train, validate and test our model by optimizing its parameters on our data. Training a model is an iterative process; in each iteration (called an *epoch*). The model makes a guess about the output, calculates the error in its guess (*loss*), collects the derivatives of the error with respect to its parameters (as we saw in the previous module), and **optimizes** these parameters using gradient descent. \n",
        "\n",
        "## Prerequisite code \n",
        "\n",
        "We will load the code from the previous modules on **Datasets & DataLoaders** and **Build Model**"
      ],
      "metadata": {}
    },
    {
      "cell_type": "code",
      "source": [
        "%matplotlib inline\n",
        "import torch\n",
        "from torch import nn\n",
        "from torch.utils.data import DataLoader\n",
        "from torchvision import datasets\n",
        "from torchvision.transforms import ToTensor, Lambda\n",
        "\n",
        "training_data = datasets.FashionMNIST(\n",
        "    root=\"data\",\n",
        "    train=True,\n",
        "    download=True,\n",
        "    transform=ToTensor()\n",
        ")\n",
        "\n",
        "test_data = datasets.FashionMNIST(\n",
        "    root=\"data\",\n",
        "    train=False,\n",
        "    download=True,\n",
        "    transform=ToTensor()\n",
        ")\n",
        "\n",
        "train_dataloader = DataLoader(training_data, batch_size=64)\n",
        "test_dataloader = DataLoader(test_data, batch_size=64)\n",
        "\n",
        "class NeuralNetwork(nn.Module):\n",
        "    def __init__(self):\n",
        "        super(NeuralNetwork, self).__init__()\n",
        "        self.flatten = nn.Flatten()\n",
        "        self.linear_relu_stack = nn.Sequential(\n",
        "            nn.Linear(28*28, 512),\n",
        "            nn.ReLU(),\n",
        "            nn.Linear(512, 512),\n",
        "            nn.ReLU(),\n",
        "            nn.Linear(512, 10),\n",
        "            nn.ReLU()\n",
        "        )\n",
        "\n",
        "    def forward(self, x):\n",
        "        x = self.flatten(x)\n",
        "        logits = self.linear_relu_stack(x)\n",
        "        return logits\n",
        "\n",
        "model = NeuralNetwork()"
      ],
      "outputs": [],
      "execution_count": 1,
      "metadata": {
        "gather": {
          "logged": 1667912275492
        }
      }
    },
    {
      "cell_type": "markdown",
      "source": [
        "## Setting hyperparameters \n",
        "\n",
        "Hyperparameters are adjustable parameters that let you control the model optimization process. \n",
        "Different hyperparameter values can impact model training and the level of accuracy.\n",
        "\n",
        "We define the following hyperparameters for training:\n",
        " - **Number of Epochs** - the number times the entire training dataset is pass through the network. \n",
        " - **Batch Size** - the number of data samples seen by the model in each epoch. Iterates are the number of batches needs to compete an epoch.\n",
        " - **Learning Rate** - the size of steps the model match as it searchs for best weights that will produce a higher model accuracy. Smaller values means the model will take a longer time to find the best weights, while larger values may result in the model step over and misses the best weights which yields unpredictable behavior during training."
      ],
      "metadata": {}
    },
    {
      "cell_type": "code",
      "source": [
        "learning_rate = 1e-3\n",
        "batch_size = 64\n",
        "epochs = 5"
      ],
      "outputs": [],
      "execution_count": 2,
      "metadata": {
        "gather": {
          "logged": 1667912277126
        }
      }
    },
    {
      "cell_type": "markdown",
      "source": [
        "## Add an optimization loop\n",
        "\n",
        "Once we set our hyperparameters, we can then train and optimize our model with an optimization loop. Each \n",
        "iteration of the optimization loop is called an **epoch**. \n",
        "\n",
        "Each epoch consists of two main parts:\n",
        " - **The Train Loop** - iterate over the training dataset and try to converge to optimal parameters.\n",
        " - **The Validation/Test Loop** - iterate over the test dataset to check if model performance is improving.\n",
        "\n",
        "Let's briefly familiarize ourselves with some of the concepts used in the training loop. Jump ahead to \n",
        "see the `full-impl-label` of the optimization loop.\n",
        "\n",
        "### Add a loss function\n",
        "\n",
        "When presented with some training data, our untrained network is likely not to give the correct \n",
        "answer. **Loss function** measures the degree of dissimilarity of obtained result to the target value, \n",
        "and it is the loss function that we want to minimize during training. To calculate the loss we make a \n",
        "prediction using the inputs of our given data sample and compare it against the true data label value.\n",
        "\n",
        "Common loss functions include:\n",
        "- `nn.MSELoss` (Mean Square Error) used for regression tasks\n",
        "- `nn.NLLLoss` (Negative Log Likelihood) used for classification\n",
        "- `nn.CrossEntropyLoss` combines `nn.LogSoftmax` and `nn.NLLLoss`\n",
        "\n",
        "We pass our model's output logits to `nn.CrossEntropyLoss`, which will normalize the logits and compute the prediction error."
      ],
      "metadata": {}
    },
    {
      "cell_type": "code",
      "source": [
        "# Initialize the loss function\n",
        "loss_fn = nn.CrossEntropyLoss()"
      ],
      "outputs": [],
      "execution_count": 3,
      "metadata": {
        "gather": {
          "logged": 1667912279804
        }
      }
    },
    {
      "cell_type": "markdown",
      "source": [
        "### Optimization pass\n",
        "\n",
        "Optimization is the process of adjusting model parameters to reduce model error in each training step. **Optimization algorithms** define how this process is performed (in this example we use Stochastic Gradient Descent).\n",
        "All optimization logic is encapsulated in  the ``optimizer`` object. Here, we use the SGD optimizer; additionally, there are many different optimizers\n",
        "available in PyTorch such as `ADAM' and 'RMSProp`, that work better for different kinds of models and data.\n",
        "\n",
        "We initialize the optimizer by registering the model's parameters that need to be trained, and passing in the learning rate hyperparameter.\n",
        "\n"
      ],
      "metadata": {}
    },
    {
      "cell_type": "code",
      "source": [
        "optimizer = torch.optim.SGD(model.parameters(), lr=learning_rate)"
      ],
      "outputs": [],
      "execution_count": 4,
      "metadata": {
        "gather": {
          "logged": 1667912282085
        }
      }
    },
    {
      "cell_type": "markdown",
      "source": [
        "Inside the training loop, optimization happens in three steps:\n",
        " * Call `optimizer.zero_grad()` to reset the gradients of model parameters. Gradients by default add up; to prevent double-counting, we explicitly zero them at each iteration.\n",
        " * Back-propagate the prediction loss with a call to `loss.backwards()`. PyTorch deposits the gradients of the loss w.r.t. each parameter. \n",
        " * Once we have our gradients, we call ``optimizer.step()`` to adjust the parameters by the gradients collected in the backward pass."
      ],
      "metadata": {}
    },
    {
      "cell_type": "markdown",
      "source": [
        "## Full implementation\n",
        "\n",
        "We define `train_loop` that loops over our optimization code, and `test_loop` that \n",
        "evaluates the model's performance against our test data."
      ],
      "metadata": {}
    },
    {
      "cell_type": "code",
      "source": [
        "def train_loop(dataloader, model, loss_fn, optimizer):\n",
        "    size = len(dataloader.dataset)\n",
        "    for batch, (X, y) in enumerate(dataloader):        \n",
        "        # Compute prediction and loss\n",
        "        pred = model(X)                 #This is the guess of the networok\n",
        "        loss = loss_fn(pred, y)         #This reflects the error between the guess (pred) and ground truth labels (y)\n",
        "        \n",
        "        # Backpropagation\n",
        "        optimizer.zero_grad()           #Gradients add up by default. They need to be zeroed to avoid unwanted accumulation of gradient\n",
        "        loss.backward()                 #Compute the loss for every parameter \n",
        "        optimizer.step()                #Update parameters values \n",
        "\n",
        "        if batch % 100 == 0:\n",
        "            loss, current = loss.item(), batch * len(X)\n",
        "            print(f\"loss: {loss:>7f}  [{current:>5d}/{size:>5d}]\")\n",
        "\n",
        "\n",
        "def test_loop(dataloader, model, loss_fn): #This loop will measure the accuracy\n",
        "    size = len(dataloader.dataset)\n",
        "    test_loss, correct = 0, 0\n",
        "\n",
        "    with torch.no_grad():\n",
        "        for X, y in dataloader:\n",
        "            pred = model(X)\n",
        "            test_loss += loss_fn(pred, y).item()\n",
        "            correct += (pred.argmax(1) == y).type(torch.float).sum().item()\n",
        "            \n",
        "    test_loss /= size\n",
        "    correct /= size\n",
        "    print(f\"Test Error: \\n Accuracy: {(100*correct):>0.1f}%, Avg loss: {test_loss:>8f} \\n\")"
      ],
      "outputs": [],
      "execution_count": 5,
      "metadata": {
        "gather": {
          "logged": 1667912284365
        }
      }
    },
    {
      "cell_type": "markdown",
      "source": [
        "We initialize the loss function and optimizer, and pass it to `train_loop` and `test_loop`.\n",
        "Feel free to increase the number of epochs to track the model's improving performance."
      ],
      "metadata": {}
    },
    {
      "cell_type": "code",
      "source": [
        "loss_fn = nn.CrossEntropyLoss()\n",
        "optimizer = torch.optim.SGD(model.parameters(), lr=learning_rate)\n",
        "\n",
        "epochs = 10\n",
        "for t in range(epochs):\n",
        "    print(f\"Epoch {t+1}\\n-------------------------------\")\n",
        "    train_loop(train_dataloader, model, loss_fn, optimizer)\n",
        "    test_loop(test_dataloader, model, loss_fn)\n",
        "print(\"Done!\")"
      ],
      "outputs": [
        {
          "output_type": "stream",
          "name": "stdout",
          "text": "Epoch 1\n-------------------------------\nloss: 2.308278  [    0/60000]\nloss: 2.296147  [ 6400/60000]\nloss: 2.284965  [12800/60000]\nloss: 2.275410  [19200/60000]\nloss: 2.256709  [25600/60000]\nloss: 2.258933  [32000/60000]\nloss: 2.240159  [38400/60000]\nloss: 2.233823  [44800/60000]\nloss: 2.241635  [51200/60000]\nloss: 2.188900  [57600/60000]\nTest Error: \n Accuracy: 48.8%, Avg loss: 0.034569 \n\nEpoch 2\n-------------------------------\nloss: 2.231280  [    0/60000]\nloss: 2.220697  [ 6400/60000]\nloss: 2.177728  [12800/60000]\nloss: 2.161011  [19200/60000]\nloss: 2.132388  [25600/60000]\nloss: 2.127337  [32000/60000]\nloss: 2.114038  [38400/60000]\nloss: 2.096705  [44800/60000]\nloss: 2.133335  [51200/60000]\nloss: 1.995242  [57600/60000]\nTest Error: \n Accuracy: 48.6%, Avg loss: 0.032066 \n\nEpoch 3\n-------------------------------\nloss: 2.122195  [    0/60000]\nloss: 2.096592  [ 6400/60000]\nloss: 2.006408  [12800/60000]\nloss: 1.970461  [19200/60000]\nloss: 1.920712  [25600/60000]\nloss: 1.924390  [32000/60000]\nloss: 1.903706  [38400/60000]\nloss: 1.883145  [44800/60000]\nloss: 1.971455  [51200/60000]\nloss: 1.710859  [57600/60000]\nTest Error: \n Accuracy: 48.8%, Avg loss: 0.028498 \n\nEpoch 4\n-------------------------------\nloss: 1.972276  [    0/60000]\nloss: 1.926794  [ 6400/60000]\nloss: 1.792595  [12800/60000]\nloss: 1.722992  [19200/60000]\nloss: 1.674234  [25600/60000]\nloss: 1.723748  [32000/60000]\nloss: 1.677316  [38400/60000]\nloss: 1.681028  [44800/60000]\nloss: 1.806874  [51200/60000]\nloss: 1.459542  [57600/60000]\nTest Error: \n Accuracy: 49.9%, Avg loss: 0.025315 \n\nEpoch 5\n-------------------------------\nloss: 1.831159  [    0/60000]\nloss: 1.779117  [ 6400/60000]\nloss: 1.618593  [12800/60000]\nloss: 1.522563  [19200/60000]\nloss: 1.477612  [25600/60000]\nloss: 1.578916  [32000/60000]\nloss: 1.506963  [38400/60000]\nloss: 1.539051  [44800/60000]\nloss: 1.670204  [51200/60000]\nloss: 1.297663  [57600/60000]\nTest Error: \n Accuracy: 51.4%, Avg loss: 0.023058 \n\nEpoch 6\n-------------------------------\nloss: 1.706360  [    0/60000]\nloss: 1.663950  [ 6400/60000]\nloss: 1.485345  [12800/60000]\nloss: 1.390241  [19200/60000]\nloss: 1.334930  [25600/60000]\nloss: 1.471109  [32000/60000]\nloss: 1.387742  [38400/60000]\nloss: 1.438181  [44800/60000]\nloss: 1.563878  [51200/60000]\nloss: 1.193426  [57600/60000]\nTest Error: \n Accuracy: 52.9%, Avg loss: 0.021479 \n\nEpoch 7\n-------------------------------\nloss: 1.605013  [    0/60000]\nloss: 1.577542  [ 6400/60000]\nloss: 1.385990  [12800/60000]\nloss: 1.300967  [19200/60000]\nloss: 1.235580  [25600/60000]\nloss: 1.388172  [32000/60000]\nloss: 1.301843  [38400/60000]\nloss: 1.364049  [44800/60000]\nloss: 1.484176  [51200/60000]\nloss: 1.119919  [57600/60000]\nTest Error: \n Accuracy: 54.0%, Avg loss: 0.020340 \n\nEpoch 8\n-------------------------------\nloss: 1.524764  [    0/60000]\nloss: 1.511948  [ 6400/60000]\nloss: 1.309533  [12800/60000]\nloss: 1.238109  [19200/60000]\nloss: 1.166832  [25600/60000]\nloss: 1.323459  [32000/60000]\nloss: 1.238446  [38400/60000]\nloss: 1.309187  [44800/60000]\nloss: 1.423840  [51200/60000]\nloss: 1.064095  [57600/60000]\nTest Error: \n Accuracy: 55.5%, Avg loss: 0.019497 \n\nEpoch 9\n-------------------------------\nloss: 1.461496  [    0/60000]\nloss: 1.463139  [ 6400/60000]\nloss: 1.248487  [12800/60000]\nloss: 1.191201  [19200/60000]\nloss: 1.118589  [25600/60000]\nloss: 1.273299  [32000/60000]\nloss: 1.190841  [38400/60000]\nloss: 1.268037  [44800/60000]\nloss: 1.378966  [51200/60000]\nloss: 1.022038  [57600/60000]\nTest Error: \n Accuracy: 56.5%, Avg loss: 0.018865 \n\nEpoch 10\n-------------------------------\nloss: 1.411574  [    0/60000]\nloss: 1.427505  [ 6400/60000]\nloss: 1.198489  [12800/60000]\nloss: 1.155640  [19200/60000]\nloss: 1.083231  [25600/60000]\nloss: 1.234836  [32000/60000]\nloss: 1.153728  [38400/60000]\nloss: 1.235602  [44800/60000]\nloss: 1.342518  [51200/60000]\nloss: 0.989604  [57600/60000]\nTest Error: \n Accuracy: 57.6%, Avg loss: 0.018366 \n\nDone!\n"
        }
      ],
      "execution_count": 6,
      "metadata": {
        "gather": {
          "logged": 1665090948631
        }
      }
    },
    {
      "cell_type": "markdown",
      "source": [
        "You may have noticed that the model is initially not very good (that's OK!). Try running the loop for more `epochs` or adjusting the `learning_rate` to a bigger number. It might also be the case that the model configuration we chose might not be the optimal one for this kind of problem (it isn't). Later courses will delve more into the model shapes that work for vision problems.\n"
      ],
      "metadata": {}
    },
    {
      "cell_type": "markdown",
      "source": [
        "Saving Models\n",
        "-------------\n",
        "\n",
        "When you are satisfied with the model's performance, you can use `torch.save` to save it. PyTorch models store the learned parameters in an internal state dictionary, called `state_dict`. These can be persisted wit the `torch.save` method:"
      ],
      "metadata": {}
    },
    {
      "cell_type": "code",
      "source": [
        "torch.save(model.state_dict(), \"data/model.pth\")\n",
        "\n",
        "print(\"Saved PyTorch Model State to model.pth\")"
      ],
      "outputs": [
        {
          "output_type": "stream",
          "name": "stdout",
          "text": "Saved PyTorch Model State to model.pth\n"
        }
      ],
      "execution_count": 6,
      "metadata": {
        "gather": {
          "logged": 1667912311507
        }
      }
    }
  ],
  "metadata": {
    "kernelspec": {
      "name": "python38-azureml",
      "language": "python",
      "display_name": "Python 3.8 - AzureML"
    },
    "language_info": {
      "name": "python",
      "version": "3.8.5",
      "mimetype": "text/x-python",
      "codemirror_mode": {
        "name": "ipython",
        "version": 3
      },
      "pygments_lexer": "ipython3",
      "nbconvert_exporter": "python",
      "file_extension": ".py"
    },
    "nteract": {
      "version": "nteract-front-end@1.0.0"
    },
    "kernel_info": {
      "name": "python38-azureml"
    },
    "microsoft": {
      "host": {
        "AzureML": {
          "notebookHasBeenCompleted": true
        }
      }
    }
  },
  "nbformat": 4,
  "nbformat_minor": 1
}