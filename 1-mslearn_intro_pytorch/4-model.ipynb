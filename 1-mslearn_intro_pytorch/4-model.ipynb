{
  "cells": [
    {
      "cell_type": "markdown",
      "source": [
        "# What is a neural network\n",
        "\n",
        "Neural network is a collection of neurons that are connected by layers. Each neuron is a small\n",
        "computing unit that performs simple calculations to collectively solve a problem. They are \n",
        "organized in layers. There are 3 types of layers: input layer, hidden layer and \n",
        "outter layer.  Each layer contains a number of neurons, except for the input layer. Neural networks mimic the way a human brain processes information.\n",
        "\n",
        "<img alt=\"Diagram showing different types of layers in a neural network\" src=\"images/4-model-1.png\" />"
      ],
      "metadata": {}
    },
    {
      "cell_type": "markdown",
      "source": [
        "## Components of a neural network\n",
        "\n",
        "- **Activation function** determines whether a neuron should be activated or not. The computations that happen in a neural network include applying an activation function. If a neuron activates, then it means the input is important.  The are different kinds of activation functions. The choice of which activation function to use depends on what you want the output to be. Another important role of an activation function is to add non-linearity to the model.\n",
        "    - _Binary_ used to set an output node to 1 if function result is positive and 0 if the function result is negative. $f(x)= {\\small \\begin{cases} 0, & \\text{if } x < 0\\\\ 1, & \\text{if } x\\geq 0\\\\ \\end{cases}}$\n",
        "    - _Sigmod_ is used to predict the probability of an output node being between 0 and 1.  $f(x) = {\\large \\frac{1}{1+e^{-x}}} $\n",
        "    - _Tanh_ is used to predict if an output node is between 1 and -1.  Used in classification use cases.  $f(x) = {\\large \\frac{e^{x} - e^{-x}}{e^{x} + e^{-x}}} $\n",
        "    - _ReLU_ used to set the output node to 0 if fuction result is negative and keeps the result value if the result is a positive value.  $f(x)= {\\small \\begin{cases} 0, & \\text{if } x < 0\\\\ x, & \\text{if } x\\geq 0\\\\ \\end{cases}}$\n",
        "- **Weights** influence how well the output of our network will come close to the expected output value. As an input enters the neuron, it gets multiplied by a weight value and the resulting output is either observed, or passed to the next layer in the neural network. Weights for all neurons in a layer are organized into one tensor\n",
        "- **Bias** makes up the difference between the activation function's output and its intended output. A low bias suggest that the network is making more assumptions about the form of the output, whereas a high bias value makes less assumptions about the form of the output. \n",
        "\n",
        "<img alt=\"Diagram showing neural computation\" src=\"images/4-model-2.png\" />\n",
        "\n",
        "We can say that an output $y$ of a neural network layer with weights $W$ and bias $b$ is computed as summation of the inputs multiply by the weights plus the bias $x = \\sum{(weights * inputs) + bias} $, where $f(x)$ is the activation function."
      ],
      "metadata": {}
    },
    {
      "cell_type": "markdown",
      "source": [
        "# Build a neural network\n",
        "\n",
        "Neural networks are comprised of layers/modules that perform operations on data. \n",
        "The `torch.nn` namespace provides all the building blocks you need to \n",
        "build your own neural network. Every module in PyTorch subclasses the `nn.Module`. \n",
        "A neural network is a module itself that consists of other modules (layers). This nested structure allows for\n",
        "building and managing complex architectures easily.\n",
        "\n",
        "In the following sections, we'll build a neural network to classify images in the FashionMNIST dataset."
      ],
      "metadata": {}
    },
    {
      "cell_type": "code",
      "source": [
        "%matplotlib inline\n",
        "import os\n",
        "import torch\n",
        "from torch import nn\n",
        "from torch.utils.data import DataLoader\n",
        "from torchvision import datasets, transforms"
      ],
      "outputs": [],
      "execution_count": 1,
      "metadata": {
        "gather": {
          "logged": 1667904111016
        }
      }
    },
    {
      "cell_type": "markdown",
      "source": [
        "## Get a hardware device for training\n",
        "\n",
        "We want to be able to train our model on a hardware accelerator like the GPU, if it is available. Let's check to see if \n",
        "`torch.cuda` is available, else we continue to use the CPU."
      ],
      "metadata": {}
    },
    {
      "cell_type": "code",
      "source": [
        "device = 'cuda' if torch.cuda.is_available() else 'cpu'\n",
        "print('Using {} device'.format(device))"
      ],
      "outputs": [
        {
          "output_type": "stream",
          "name": "stdout",
          "text": "Using cuda device\n"
        }
      ],
      "execution_count": 2,
      "metadata": {
        "gather": {
          "logged": 1667904129551
        }
      }
    },
    {
      "cell_type": "markdown",
      "source": [
        "## Define the class\n",
        "\n",
        "We define our neural network by subclassing `nn.Module`, and \n",
        "initialize the neural network layers in `__init__`. Every `nn.Module` subclass implements\n",
        "the operations on input data in the `forward` method.\n",
        "\n",
        "Our neural network are composed of the following:\n",
        "- The input layer with 28x28 or 784 features (pixels)\n",
        "- The first linear module takes the input 784 features and transforms it to a hidden layer with 512 features\n",
        "- The ReLU activation function will be applied in the transformation\n",
        "- The second linear module take 512 features as input from the first hidden layer and transforms it to the next hidden layer with 512 features\n",
        "- The ReLU activation function will be applied in the transformation\n",
        "- The third linear module take 512 features as input from the second hidden layer and transforms it to the output layer with 10, which is the number of classes\n",
        "- The ReLU activation function will be applied in the transformation"
      ],
      "metadata": {}
    },
    {
      "cell_type": "code",
      "source": [
        "class NeuralNetwork(nn.Module):\n",
        "    def __init__(self):\n",
        "        super(NeuralNetwork, self).__init__()\n",
        "        self.flatten = nn.Flatten()\n",
        "        self.linear_relu_stack = nn.Sequential(\n",
        "            nn.Linear(28*28, 512),\n",
        "            nn.ReLU(),\n",
        "            nn.Linear(512, 512),\n",
        "            nn.ReLU(),\n",
        "            nn.Linear(512, 10),\n",
        "            nn.ReLU()\n",
        "        )\n",
        "\n",
        "    def forward(self, x):\n",
        "        x = self.flatten(x)\n",
        "        logits = self.linear_relu_stack(x)\n",
        "        return logits"
      ],
      "outputs": [],
      "execution_count": 5,
      "metadata": {
        "gather": {
          "logged": 1667904285259
        }
      }
    },
    {
      "cell_type": "markdown",
      "source": [
        "We create an instance of `NeuralNetwork`, and move it to the `device`, and print \n",
        "it's structure.\n",
        "\n"
      ],
      "metadata": {}
    },
    {
      "cell_type": "code",
      "source": [
        "model = NeuralNetwork().to(device)\n",
        "#model = NeuralNetwork() #If you don't move the model to a GPU device, then the forward computation will not happen\n",
        "print(model)"
      ],
      "outputs": [
        {
          "output_type": "stream",
          "name": "stdout",
          "text": "NeuralNetwork(\n  (flatten): Flatten(start_dim=1, end_dim=-1)\n  (linear_relu_stack): Sequential(\n    (0): Linear(in_features=784, out_features=512, bias=True)\n    (1): ReLU()\n    (2): Linear(in_features=512, out_features=512, bias=True)\n    (3): ReLU()\n    (4): Linear(in_features=512, out_features=10, bias=True)\n    (5): ReLU()\n  )\n)\n"
        }
      ],
      "execution_count": 9,
      "metadata": {
        "gather": {
          "logged": 1667904395081
        }
      }
    },
    {
      "cell_type": "markdown",
      "source": [
        "To use the model, we pass it the input data. This executes the model's `forward`, along with some background operations. However, do not call `model.forward()` directly! Calling the model on the input returns a 10-dimensional tensor with raw predicted values for each class.\n",
        "\n",
        "We get the prediction densities by passing it through an instance of the `nn.Softmax`."
      ],
      "metadata": {}
    },
    {
      "cell_type": "code",
      "source": [
        "X = torch.rand(1, 28, 28, device=device)\n",
        "logits = model(X) \n",
        "pred_probab = nn.Softmax(dim=1)(logits) #If dim is put to 0, the output will always be zero\n",
        "y_pred = pred_probab.argmax(1)\n",
        "print(f\"Predicted class: {y_pred}\")"
      ],
      "outputs": [
        {
          "output_type": "error",
          "ename": "NameError",
          "evalue": "name 'torch' is not defined",
          "traceback": [
            "\u001b[0;31m---------------------------------------------------------------------------\u001b[0m",
            "\u001b[0;31mNameError\u001b[0m                                 Traceback (most recent call last)",
            "Input \u001b[0;32mIn [1]\u001b[0m, in \u001b[0;36m<cell line: 1>\u001b[0;34m()\u001b[0m\n\u001b[0;32m----> 1\u001b[0m X \u001b[38;5;241m=\u001b[39m \u001b[43mtorch\u001b[49m\u001b[38;5;241m.\u001b[39mrand(\u001b[38;5;241m1\u001b[39m, \u001b[38;5;241m28\u001b[39m, \u001b[38;5;241m28\u001b[39m, device\u001b[38;5;241m=\u001b[39mdevice)\n\u001b[1;32m      2\u001b[0m logits \u001b[38;5;241m=\u001b[39m model(X) \n\u001b[1;32m      3\u001b[0m pred_probab \u001b[38;5;241m=\u001b[39m nn\u001b[38;5;241m.\u001b[39mSoftmax(dim\u001b[38;5;241m=\u001b[39m\u001b[38;5;241m1\u001b[39m)(logits) \u001b[38;5;66;03m#If dim is put to 0, the output will always be zero\u001b[39;00m\n",
            "\u001b[0;31mNameError\u001b[0m: name 'torch' is not defined"
          ]
        }
      ],
      "execution_count": 1,
      "metadata": {
        "gather": {
          "logged": 1668509783659
        }
      }
    },
    {
      "cell_type": "markdown",
      "source": [
        "## Weight and Bias\n",
        "\n",
        "\n",
        "The `nn.Linear` module randomly initializes the ${weights}$  and ${ bias}$ for each layer and internally stores the values in Tensors."
      ],
      "metadata": {}
    },
    {
      "cell_type": "code",
      "source": [
        "model.linear_relu_stack #One of the models attributes"
      ],
      "outputs": [
        {
          "output_type": "execute_result",
          "execution_count": 20,
          "data": {
            "text/plain": "Sequential(\n  (0): Linear(in_features=784, out_features=512, bias=True)\n  (1): ReLU()\n  (2): Linear(in_features=512, out_features=512, bias=True)\n  (3): ReLU()\n  (4): Linear(in_features=512, out_features=10, bias=True)\n  (5): ReLU()\n)"
          },
          "metadata": {}
        }
      ],
      "execution_count": 20,
      "metadata": {
        "jupyter": {
          "source_hidden": false,
          "outputs_hidden": false
        },
        "nteract": {
          "transient": {
            "deleting": false
          }
        },
        "gather": {
          "logged": 1667904485093
        }
      }
    },
    {
      "cell_type": "code",
      "source": [
        "print(f\"First Linear weights: {model.linear_relu_stack[0].weight} \\n\")\n",
        "\n",
        "print(f\"First Linear Bias: {model.linear_relu_stack[0].bias} \\n\")"
      ],
      "outputs": [
        {
          "output_type": "stream",
          "name": "stdout",
          "text": "First Linear weights: Parameter containing:\ntensor([[-0.0252, -0.0308, -0.0314,  ..., -0.0254, -0.0247, -0.0332],\n        [-0.0336, -0.0248,  0.0077,  ...,  0.0231,  0.0138,  0.0323],\n        [-0.0208,  0.0104, -0.0175,  ...,  0.0188,  0.0097,  0.0135],\n        ...,\n        [-0.0081,  0.0198, -0.0124,  ..., -0.0205,  0.0114,  0.0323],\n        [ 0.0324, -0.0298,  0.0348,  ...,  0.0184, -0.0312, -0.0275],\n        [ 0.0229, -0.0314, -0.0059,  ...,  0.0212,  0.0082,  0.0055]],\n       device='cuda:0', requires_grad=True) \n\nFirst Linear Bias: Parameter containing:\ntensor([-4.8315e-03, -2.7760e-02,  1.7550e-02,  1.9103e-02,  2.4750e-02,\n         2.9694e-02, -9.7887e-03, -1.8256e-02, -1.5187e-02,  3.9431e-03,\n        -1.6350e-04, -2.3554e-02,  1.9717e-02,  4.5265e-03, -7.7123e-03,\n         1.5967e-02, -1.5641e-02, -1.6380e-02,  7.5963e-03, -3.1065e-02,\n         2.4670e-02, -7.2557e-03, -3.3919e-02, -2.8848e-02, -2.3942e-02,\n        -1.5399e-02, -3.4185e-02, -1.7739e-02,  1.0370e-03,  2.2741e-02,\n        -1.0763e-02, -4.9879e-03,  4.8679e-04, -3.0192e-02,  4.4443e-03,\n        -1.7684e-02,  1.9671e-02, -1.3985e-02,  2.4742e-02, -8.7368e-03,\n        -5.7129e-03,  2.6496e-02, -2.1121e-02,  1.1232e-02,  3.4440e-02,\n         1.5428e-02, -1.6177e-02,  1.9481e-02, -2.3499e-02, -2.2618e-02,\n         1.4708e-02, -2.6984e-02, -1.2381e-02, -6.4571e-03, -1.2919e-02,\n        -4.6183e-03, -5.8465e-03,  8.3785e-03, -3.0995e-02, -1.9840e-02,\n         2.6506e-02,  9.0028e-03, -7.3353e-03,  2.7412e-02,  2.6274e-02,\n        -2.5249e-03,  2.5274e-04,  1.9722e-02, -3.1314e-02, -1.0330e-02,\n        -2.6141e-02, -1.3781e-02,  2.6696e-02, -2.7992e-03, -2.7810e-02,\n        -1.7207e-02, -2.3829e-02,  9.5223e-03,  8.4868e-03, -3.2101e-02,\n        -1.0899e-02, -1.2102e-02, -2.8850e-02, -1.2128e-02, -2.9304e-02,\n        -9.2650e-03,  1.7743e-03,  3.4901e-02, -2.0727e-02,  3.3924e-03,\n         6.2194e-03,  1.2141e-02, -6.5423e-03, -1.1102e-02, -3.2863e-02,\n         2.3494e-02,  3.1892e-02, -8.7509e-03,  1.9226e-02,  2.4485e-02,\n        -4.4854e-03, -2.4006e-02,  1.2876e-02, -2.4851e-03,  2.1572e-03,\n         1.3003e-02, -2.2146e-02, -1.1866e-02,  9.3696e-03, -1.3576e-02,\n        -2.3632e-02,  1.9016e-02,  3.1187e-02,  2.5388e-02,  7.1897e-03,\n         6.5814e-03, -1.3802e-02, -2.9101e-02,  1.4156e-03, -5.5861e-03,\n         1.6073e-02, -3.4470e-02, -1.7314e-02,  7.4140e-03,  3.2939e-02,\n         1.3525e-02,  6.3157e-03, -4.2884e-03,  1.4306e-02, -2.0522e-02,\n         2.5704e-02,  2.4095e-02, -2.1283e-03,  6.6381e-03, -6.7510e-03,\n         6.7357e-03,  1.3297e-02,  6.5596e-03, -6.1226e-04,  2.2576e-02,\n        -2.1784e-02,  1.6696e-02, -3.2315e-02, -2.3774e-02, -2.0585e-02,\n         2.7424e-03,  4.3570e-03,  1.7082e-02,  3.5672e-02,  1.4440e-02,\n         3.0132e-02, -1.4943e-02, -3.3129e-03, -1.3877e-02,  4.3438e-03,\n         3.6980e-04,  1.4887e-02,  2.9404e-02,  9.3810e-03,  3.4429e-02,\n        -7.9257e-03,  2.2489e-02,  6.7773e-03,  2.1757e-02, -3.1001e-02,\n        -2.6588e-02, -2.9106e-02, -2.6160e-02,  5.2712e-03,  2.0597e-02,\n        -2.9999e-02,  2.7613e-02,  1.1720e-02,  3.4183e-02,  2.4964e-02,\n         1.2881e-02, -1.3022e-02,  2.3391e-02,  3.4232e-02,  6.0969e-04,\n        -2.5162e-03, -3.2207e-02,  1.8546e-03, -9.1033e-03,  2.8568e-02,\n        -2.7887e-02,  1.6093e-02,  1.3926e-02, -9.3999e-03,  2.2224e-02,\n        -1.4200e-03,  2.6513e-02,  5.6019e-03, -4.9251e-03, -2.4839e-02,\n        -2.5063e-02,  2.0913e-02, -3.3681e-02, -2.9418e-02, -1.1586e-02,\n         2.9271e-02, -3.4389e-02,  5.9897e-03, -2.1783e-03,  3.3748e-02,\n         2.4969e-02,  8.4267e-03,  2.6858e-02,  1.0929e-02,  3.1784e-02,\n        -2.1323e-03,  1.4572e-02, -1.4131e-02, -1.1034e-02,  1.8822e-02,\n         1.7855e-02, -2.4032e-02,  1.6664e-02, -2.9473e-02, -2.1994e-02,\n        -3.2041e-02,  3.4931e-02, -1.6731e-02, -9.0632e-04,  2.0981e-02,\n        -2.8598e-03,  2.4752e-02,  2.4089e-02, -2.8640e-02,  1.7121e-02,\n         6.8483e-03,  1.7915e-02, -2.7841e-02, -2.0521e-02, -3.4607e-02,\n         2.8460e-02, -8.3459e-03,  3.4280e-02,  2.7962e-02,  2.6801e-02,\n         1.0950e-02, -2.8505e-02, -5.5426e-03, -9.5541e-03,  1.3311e-02,\n        -2.8651e-02,  3.5276e-02,  9.9951e-03,  2.3385e-02,  2.8556e-02,\n        -2.2385e-02,  7.6249e-03,  1.2052e-02,  7.3278e-03,  3.4413e-02,\n         3.0877e-03,  1.5071e-03, -1.9025e-03, -6.6676e-03,  9.0168e-03,\n        -1.9672e-02,  2.6306e-02, -1.8006e-02, -8.9258e-03,  6.5218e-03,\n         2.7140e-02, -2.4783e-02,  3.0120e-02, -1.4485e-02,  2.8011e-02,\n        -2.6509e-02, -1.0396e-02, -2.2305e-02,  6.5576e-03,  2.3134e-02,\n        -2.6431e-02,  3.0292e-02, -1.5561e-02, -2.6080e-02, -3.4503e-03,\n         1.9398e-02, -1.9854e-02, -3.4140e-02,  1.4564e-02,  2.0510e-02,\n         1.4690e-02, -3.3857e-02, -2.8120e-02,  3.3188e-02,  1.2227e-02,\n        -2.5454e-02,  3.3409e-02,  2.0612e-02, -2.5790e-02, -1.2991e-02,\n         5.3486e-03, -2.5395e-02, -2.5676e-03, -1.7506e-02, -2.8666e-02,\n         2.3697e-02,  1.2663e-03,  2.2062e-02,  1.0795e-02, -2.6287e-02,\n        -1.8835e-02,  3.3631e-02, -1.0510e-02, -2.3375e-02, -2.3689e-03,\n        -1.2941e-03, -3.5528e-02,  1.6745e-02,  3.1767e-02,  3.1759e-02,\n         8.3167e-03,  1.0929e-03, -7.1755e-03,  1.7106e-02, -1.5881e-02,\n         3.2620e-02, -1.8761e-02,  3.2540e-02, -9.3195e-03, -4.0198e-04,\n         1.0682e-02, -2.6222e-02,  1.2451e-02, -1.1692e-02, -2.0035e-02,\n         2.0868e-02, -2.0568e-02, -1.7960e-02,  2.2838e-02, -1.6241e-02,\n         1.6825e-02,  7.5758e-03,  3.2727e-03, -1.4433e-02,  1.3140e-02,\n        -2.2747e-02, -3.2858e-02,  3.3434e-02, -1.2176e-02, -3.8428e-03,\n         1.8953e-02,  2.2498e-03,  2.2267e-02,  1.5701e-02, -5.6704e-03,\n        -1.3939e-02,  3.4392e-02,  3.3194e-02, -4.2072e-03, -3.1623e-02,\n         3.0804e-02, -1.6112e-02,  2.4510e-02, -1.4715e-02, -1.1450e-02,\n         1.7751e-02, -2.5607e-02, -2.6390e-04,  2.4934e-02,  1.0394e-02,\n        -3.2264e-02,  1.6334e-02,  3.9445e-03, -1.5612e-02,  1.0941e-02,\n        -2.8596e-02,  6.1733e-03,  8.2336e-03, -1.9630e-02,  1.2957e-02,\n         2.2473e-02, -2.8964e-02,  1.3264e-02,  2.9722e-02, -2.9457e-02,\n        -3.5156e-02,  1.3270e-02,  9.2120e-03, -1.6514e-02,  4.7415e-05,\n        -2.6603e-02, -1.9845e-02,  1.1450e-03,  2.7494e-02, -2.1149e-02,\n         2.4721e-02,  7.5471e-03,  3.4954e-02,  1.9629e-02, -2.0962e-02,\n         9.9371e-03, -2.0657e-02, -3.4880e-02,  5.3459e-03,  1.2269e-02,\n        -1.1549e-02,  1.0233e-02,  1.9821e-02,  4.2702e-03, -2.3920e-02,\n        -1.9117e-02, -1.4527e-02,  2.9584e-02,  3.2836e-03,  1.3978e-02,\n         3.3258e-02, -1.9097e-02,  1.2593e-02,  9.5135e-03,  3.4070e-02,\n         2.3412e-03,  2.8745e-02, -1.4802e-02, -3.3952e-02,  1.1392e-02,\n         3.5074e-02,  1.5992e-02, -2.2106e-02, -3.8622e-03,  2.7602e-02,\n         2.1099e-02, -2.7879e-02, -1.5990e-02, -3.4597e-02,  3.2408e-03,\n         2.7710e-02, -6.7346e-04,  2.1013e-02,  2.6470e-02,  1.5914e-02,\n        -3.3243e-02,  3.6276e-03,  1.3324e-02, -1.8982e-02, -1.6173e-02,\n        -9.8756e-03,  2.7201e-02,  4.4386e-03, -2.6939e-02, -2.2133e-02,\n        -3.9120e-03,  1.4513e-02,  3.7471e-03, -2.3587e-02, -7.7923e-03,\n         2.1511e-02, -1.1875e-02,  6.8258e-03,  1.4264e-02, -2.4853e-02,\n        -3.1132e-02,  1.4974e-02, -2.2375e-02, -3.2933e-02, -2.5247e-02,\n         1.6705e-02, -2.6769e-02, -4.0032e-03,  8.8064e-03,  2.1409e-02,\n        -2.7025e-03, -6.1236e-03,  4.5653e-03, -3.5005e-02, -3.2976e-02,\n        -8.1460e-03,  4.2204e-03,  3.1618e-02, -3.3698e-02,  6.9201e-03,\n         3.3444e-02, -5.5169e-03, -1.8041e-03, -2.3064e-02,  1.2158e-02,\n         3.2343e-03, -3.3180e-02, -2.0458e-02, -1.8464e-02, -2.9717e-02,\n        -6.8557e-03, -2.6993e-02, -1.2092e-02, -1.6171e-02, -2.3936e-02,\n         2.8688e-02,  1.7285e-02,  3.8444e-03,  2.1668e-03,  2.6977e-03,\n         1.0458e-02,  3.1289e-02,  2.0818e-03, -2.6100e-02,  2.2265e-02,\n        -2.5947e-03, -2.5976e-02, -3.1975e-02, -1.7279e-02,  9.0598e-03,\n         1.5568e-02, -2.1322e-02,  3.0597e-02,  1.6813e-02,  1.2338e-02,\n         1.8628e-02, -2.2906e-02], device='cuda:0', requires_grad=True) \n\n"
        }
      ],
      "execution_count": 22,
      "metadata": {
        "gather": {
          "logged": 1667904528079
        }
      }
    },
    {
      "cell_type": "markdown",
      "source": [
        "## Model layers\n",
        "\n",
        "Let's break down the layers in the FashionMNIST model. To illustrate it, we \n",
        "will take a sample minibatch of 3 images of size **28x28** and see what happens to it as \n",
        "we pass it through the network. "
      ],
      "metadata": {}
    },
    {
      "cell_type": "code",
      "source": [
        "input_image = torch.rand(3,28,28)\n",
        "print(input_image.size())"
      ],
      "outputs": [
        {
          "output_type": "stream",
          "name": "stdout",
          "text": "torch.Size([3, 28, 28])\n"
        }
      ],
      "execution_count": 23,
      "metadata": {
        "gather": {
          "logged": 1667904545342
        }
      }
    },
    {
      "cell_type": "markdown",
      "source": [
        "### nn.Flatten\n",
        "\n",
        "We initialize the `nn.Flatten` layer to convert each 2D 28x28 image into a contiguous array of 784 pixel values (the minibatch dimension (at dim=0) is maintained). Each of the pixels are pass to the input layer of the neural network.  \n",
        "\n",
        "<img alt=\"Diagram showing how pixels in image are flatten\" src=\"images/4-model-3.png\" />"
      ],
      "metadata": {}
    },
    {
      "cell_type": "code",
      "source": [
        "flatten = nn.Flatten() #This will transform the 3D image to a vector stacking rows next to each other, yet keeping each channel separate\n",
        "flat_image = flatten(input_image)\n",
        "print(flat_image.size())"
      ],
      "outputs": [
        {
          "output_type": "stream",
          "name": "stdout",
          "text": "torch.Size([3, 784])\n"
        }
      ],
      "execution_count": 24,
      "metadata": {
        "gather": {
          "logged": 1667904550283
        }
      }
    },
    {
      "cell_type": "code",
      "source": [
        "import matplotlib.pyplot as plt\r\n",
        "plt.figure(figsize = (30,2))\r\n",
        "plt.imshow(flat_image.squeeze())\r\n",
        "plt.axis('off')\r\n",
        "#There are the flattened color layers :) "
      ],
      "outputs": [
        {
          "output_type": "execute_result",
          "execution_count": 25,
          "data": {
            "text/plain": "(-0.5, 783.5, 2.5, -0.5)"
          },
          "metadata": {}
        },
        {
          "output_type": "display_data",
          "data": {
            "text/plain": "<Figure size 2160x144 with 1 Axes>",
            "image/png": "[encoded data removed]"
          },
          "metadata": {
            "needs_background": "light"
          }
        }
      ],
      "execution_count": 25,
      "metadata": {
        "jupyter": {
          "source_hidden": false,
          "outputs_hidden": false
        },
        "nteract": {
          "transient": {
            "deleting": false
          }
        },
        "gather": {
          "logged": 1667904553137
        }
      }
    },
    {
      "cell_type": "markdown",
      "source": [
        "### nn.Linear \n",
        "\n",
        "The linear layer is a module that applies a linear transformation on the input using it's stored weights and biases.  The gayscale value of each pixel in the input layer will be connected to neurons in the hidden layer for calculation.    The calculation used for the transformation is ${{weight * input + bias}} $.\n"
      ],
      "metadata": {}
    },
    {
      "cell_type": "code",
      "source": [
        "layer1 = nn.Linear(in_features=28*28, out_features=20)\n",
        "hidden1 = layer1(flat_image)\n",
        "print(hidden1.size())"
      ],
      "outputs": [
        {
          "output_type": "stream",
          "name": "stdout",
          "text": "torch.Size([3, 20])\n"
        }
      ],
      "execution_count": 42,
      "metadata": {
        "gather": {
          "logged": 1665089643752
        }
      }
    },
    {
      "cell_type": "markdown",
      "source": [
        "### nn.ReLU\n",
        "\n",
        "Non-linear activations are what create the complex mappings between the model's inputs and outputs.\n",
        "They are applied after linear transformations to introduce *nonlinearity*, helping neural networks\n",
        "learn a wide variety of phenomena. In this model, we use `nn.ReLU` between our linear layers, but there's other activations to introduce non-linearity in your model.\n",
        "\n",
        "The ReLU activation function takes the output from the linear layer calculation and replaces the negative values with zeros.\n",
        "\n",
        "Linear output: ${ x = {weight * input + bias}} $.  \n",
        "ReLU:  $f(x)= \n",
        "\\begin{cases}\n",
        "    0, & \\text{if } x < 0\\\\\n",
        "    x, & \\text{if } x\\geq 0\\\\\n",
        "\\end{cases}\n",
        "$"
      ],
      "metadata": {}
    },
    {
      "cell_type": "code",
      "source": [
        "print(f\"Before ReLU: {hidden1}\\n\\n\")\n",
        "hidden1 = nn.ReLU()(hidden1)\n",
        "print(f\"After ReLU: {hidden1}\")"
      ],
      "outputs": [
        {
          "output_type": "stream",
          "name": "stdout",
          "text": "Before ReLU: tensor([[-0.7888, -0.3418, -0.3653,  0.8672, -0.1573, -0.0125,  0.3021, -0.1147,\n          0.4404, -0.1011,  0.4209,  0.3444,  0.1166,  0.6784,  0.3580, -0.0737,\n          0.1250,  0.1440,  0.2790,  0.0494],\n        [-0.7186, -0.1671, -0.3553,  0.8699,  0.0117,  0.4001, -0.1818, -0.3082,\n          0.3730,  0.0226,  0.3004,  0.6155, -0.1958,  0.6439,  0.2582, -0.4211,\n         -0.1000,  0.0198,  0.1624, -0.2349],\n        [-0.5648, -0.1233, -0.6348,  0.6097, -0.5901,  0.2903,  0.0066, -0.3476,\n          0.3363, -0.1950,  0.1144,  0.4332, -0.1349,  0.6935,  0.3585, -0.4157,\n          0.0217,  0.5417,  0.3427, -0.0590]], grad_fn=<AddmmBackward0>)\n\n\nAfter ReLU: tensor([[0.0000, 0.0000, 0.0000, 0.8672, 0.0000, 0.0000, 0.3021, 0.0000, 0.4404,\n         0.0000, 0.4209, 0.3444, 0.1166, 0.6784, 0.3580, 0.0000, 0.1250, 0.1440,\n         0.2790, 0.0494],\n        [0.0000, 0.0000, 0.0000, 0.8699, 0.0117, 0.4001, 0.0000, 0.0000, 0.3730,\n         0.0226, 0.3004, 0.6155, 0.0000, 0.6439, 0.2582, 0.0000, 0.0000, 0.0198,\n         0.1624, 0.0000],\n        [0.0000, 0.0000, 0.0000, 0.6097, 0.0000, 0.2903, 0.0066, 0.0000, 0.3363,\n         0.0000, 0.1144, 0.4332, 0.0000, 0.6935, 0.3585, 0.0000, 0.0217, 0.5417,\n         0.3427, 0.0000]], grad_fn=<ReluBackward0>)\n"
        }
      ],
      "execution_count": 43,
      "metadata": {
        "scrolled": true,
        "gather": {
          "logged": 1665089796596
        }
      }
    },
    {
      "cell_type": "markdown",
      "source": [
        "### nn.Sequential\n",
        "\n",
        "`nn.Sequential` is an ordered \n",
        "container of modules. The data is passed through all the modules in the same order as defined. You can use\n",
        "sequential containers to put together a quick network like `seq_modules`."
      ],
      "metadata": {}
    },
    {
      "cell_type": "code",
      "source": [
        "seq_modules = nn.Sequential(\n",
        "    flatten,\n",
        "    layer1,\n",
        "    nn.ReLU(),\n",
        "    nn.Linear(20, 10)\n",
        ")\n",
        "input_image = torch.rand(3,28,28)\n",
        "logits = seq_modules(input_image)"
      ],
      "outputs": [],
      "execution_count": 15,
      "metadata": {
        "gather": {
          "logged": 1665089030212
        }
      }
    },
    {
      "cell_type": "markdown",
      "source": [
        "### nn.Softmax\n",
        "\n",
        "The last linear layer of the neural network returns `logits` - raw values in \\[`-infty`, `infty`], which are passed to the\n",
        "`nn.Softmax` module. The Softmax activation function is used to calculate the probability of the output from the neural network.  It is only used on the output layer of a neural network.  The results are scaled to values \\[0, 1\\] representing the model's predicted densities for each class. `dim` parameter indicates the dimension along which the result values must sum to 1.  The node with the highest probability predicts the desired output.\n",
        "\n",
        "<img alt=\"Diagram shows softmax formula\" src=\"images/4-model-4.png\" />"
      ],
      "metadata": {}
    },
    {
      "cell_type": "code",
      "source": [
        "softmax = nn.Softmax(dim=1)\n",
        "pred_probab = softmax(logits)"
      ],
      "outputs": [],
      "execution_count": 44,
      "metadata": {
        "gather": {
          "logged": 1665089897703
        }
      }
    },
    {
      "cell_type": "markdown",
      "source": [
        "## Model parameters\n",
        "\n",
        "Many layers inside a neural network are *parameterized*, i.e. have associated weights \n",
        "and biases that are optimized during training. Subclassing `nn.Module` automatically \n",
        "tracks all fields defined inside your model object, and makes all parameters \n",
        "accessible using your model's `parameters()` or `named_parameters()` methods.\n",
        "\n",
        "In this example, we iterate over each parameter, and print its size and a preview of its values.\n"
      ],
      "metadata": {}
    },
    {
      "cell_type": "code",
      "source": [
        "print(\"Model structure: \", model, \"\\n\\n\")\n",
        "\n",
        "for name, param in model.named_parameters():\n",
        "    print(f\"Layer: {name} | Size: {param.size()} | Values : {param[:2]} \\n\")"
      ],
      "outputs": [
        {
          "output_type": "stream",
          "name": "stdout",
          "text": "Model structure:  NeuralNetwork(\n  (flatten): Flatten(start_dim=1, end_dim=-1)\n  (linear_relu_stack): Sequential(\n    (0): Linear(in_features=784, out_features=512, bias=True)\n    (1): ReLU()\n    (2): Linear(in_features=512, out_features=512, bias=True)\n    (3): ReLU()\n    (4): Linear(in_features=512, out_features=10, bias=True)\n    (5): ReLU()\n  )\n) \n\n\nLayer: linear_relu_stack.0.weight | Size: torch.Size([512, 784]) | Values : tensor([[-0.0252, -0.0308, -0.0314,  ..., -0.0254, -0.0247, -0.0332],\n        [-0.0336, -0.0248,  0.0077,  ...,  0.0231,  0.0138,  0.0323]],\n       device='cuda:0', grad_fn=<SliceBackward>) \n\nLayer: linear_relu_stack.0.bias | Size: torch.Size([512]) | Values : tensor([-0.0048, -0.0278], device='cuda:0', grad_fn=<SliceBackward>) \n\nLayer: linear_relu_stack.2.weight | Size: torch.Size([512, 512]) | Values : tensor([[ 0.0327,  0.0159, -0.0010,  ..., -0.0003,  0.0076, -0.0010],\n        [-0.0027, -0.0038,  0.0183,  ...,  0.0405, -0.0136,  0.0404]],\n       device='cuda:0', grad_fn=<SliceBackward>) \n\nLayer: linear_relu_stack.2.bias | Size: torch.Size([512]) | Values : tensor([ 0.0366, -0.0393], device='cuda:0', grad_fn=<SliceBackward>) \n\nLayer: linear_relu_stack.4.weight | Size: torch.Size([10, 512]) | Values : tensor([[ 0.0280,  0.0397, -0.0051,  ..., -0.0097, -0.0346,  0.0270],\n        [ 0.0178, -0.0296,  0.0347,  ...,  0.0047,  0.0423,  0.0195]],\n       device='cuda:0', grad_fn=<SliceBackward>) \n\nLayer: linear_relu_stack.4.bias | Size: torch.Size([10]) | Values : tensor([ 0.0081, -0.0420], device='cuda:0', grad_fn=<SliceBackward>) \n\n"
        }
      ],
      "execution_count": 26,
      "metadata": {
        "scrolled": true,
        "gather": {
          "logged": 1667904606324
        }
      }
    },
    {
      "cell_type": "markdown",
      "source": [
        "--------------\n",
        "\n",
        "\n"
      ],
      "metadata": {}
    }
  ],
  "metadata": {
    "kernelspec": {
      "name": "python3",
      "language": "python",
      "display_name": "Python 3 (ipykernel)"
    },
    "language_info": {
      "name": "python",
      "version": "3.8.5",
      "mimetype": "text/x-python",
      "codemirror_mode": {
        "name": "ipython",
        "version": 3
      },
      "pygments_lexer": "ipython3",
      "nbconvert_exporter": "python",
      "file_extension": ".py"
    },
    "nteract": {
      "version": "nteract-front-end@1.0.0"
    },
    "kernel_info": {
      "name": "python3"
    },
    "microsoft": {
      "host": {
        "AzureML": {
          "notebookHasBeenCompleted": true
        }
      }
    }
  },
  "nbformat": 4,
  "nbformat_minor": 1
}