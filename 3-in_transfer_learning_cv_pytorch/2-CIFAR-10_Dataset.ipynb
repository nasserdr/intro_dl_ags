{
  "cells": [
    {
      "cell_type": "markdown",
      "source": [
        "#CIFAR-10 Dataset"
      ],
      "metadata": {
        "id": "999Xuus_hUFv",
        "colab_type": "text"
      }
    },
    {
      "cell_type": "code",
      "source": [
        "# Setting seeds to try and ensure we have the same results - this is not guaranteed across PyTorch releases.\n",
        "import torch\n",
        "torch.manual_seed(0)\n",
        "torch.backends.cudnn.deterministic = True\n",
        "torch.backends.cudnn.benchmark = False"
      ],
      "outputs": [],
      "execution_count": 1,
      "metadata": {
        "id": "k-iG3B9nhTGk",
        "colab_type": "code",
        "colab": {},
        "gather": {
          "logged": 1665400789873
        }
      }
    },
    {
      "cell_type": "code",
      "source": [
        "import torch.nn as nn\n",
        "import torch.nn.functional as F\n",
        "from torchvision import datasets, transforms, models\n",
        "from torch.utils.data import DataLoader"
      ],
      "outputs": [],
      "execution_count": 3,
      "metadata": {
        "id": "GxDchYyEo5Fe",
        "colab_type": "code",
        "colab": {},
        "gather": {
          "logged": 1665400816999
        }
      }
    },
    {
      "cell_type": "code",
      "source": [
        "device = torch.device('cuda' if torch.cuda.is_available() else 'cpu')\n",
        "device"
      ],
      "outputs": [
        {
          "output_type": "execute_result",
          "execution_count": 4,
          "data": {
            "text/plain": "device(type='cuda')"
          },
          "metadata": {}
        }
      ],
      "execution_count": 4,
      "metadata": {
        "id": "CYMYVmxMpX2z",
        "colab_type": "code",
        "colab": {},
        "gather": {
          "logged": 1665400817942
        }
      }
    },
    {
      "cell_type": "code",
      "source": [
        "#STD and MEAN are provided by the model (usually published in the paper)\n",
        "mean = [0.485, 0.456, 0.406] \n",
        "std = [0.229, 0.224, 0.225] \n",
        "\n",
        "transform = transforms.Compose([\n",
        "    transforms.Resize((224, 224)),\n",
        "    transforms.ToTensor(),\n",
        "    transforms.Normalize(mean=mean, std=std)\n",
        "    ])\n",
        "\n",
        "trainset = datasets.CIFAR10(root='data/CIFAR10',train=True, download=True,transform=transform)\n",
        "testset = datasets.CIFAR10(root='data/CIFAR10',train=False, transform=transform)\n",
        "\n",
        "trainloader = DataLoader(trainset, batch_size=64, shuffle=True)\n",
        "testloader = DataLoader(testset, batch_size=64, shuffle=False)"
      ],
      "outputs": [
        {
          "output_type": "stream",
          "name": "stdout",
          "text": "Files already downloaded and verified\n"
        }
      ],
      "execution_count": 7,
      "metadata": {
        "id": "fJEw9S-Up23y",
        "colab_type": "code",
        "colab": {},
        "gather": {
          "logged": 1665400999914
        }
      }
    },
    {
      "cell_type": "code",
      "source": [
        "for images, labels in trainloader:\n",
        "  print(images.size(), labels.size())\n",
        "  break"
      ],
      "outputs": [
        {
          "output_type": "stream",
          "name": "stdout",
          "text": "torch.Size([64, 3, 224, 224]) torch.Size([64])\n"
        }
      ],
      "execution_count": 8,
      "metadata": {
        "id": "R1CRA2mdqZ8R",
        "colab_type": "code",
        "colab": {},
        "gather": {
          "logged": 1665401003064
        }
      }
    },
    {
      "cell_type": "code",
      "source": [],
      "outputs": [],
      "execution_count": 0,
      "metadata": {
        "id": "u3ljFhUusKgb",
        "colab_type": "code",
        "colab": {}
      }
    },
    {
      "cell_type": "code",
      "source": [],
      "outputs": [],
      "execution_count": 0,
      "metadata": {
        "id": "VM-J10IksKd3",
        "colab_type": "code",
        "colab": {}
      }
    },
    {
      "cell_type": "code",
      "source": [],
      "outputs": [],
      "execution_count": 0,
      "metadata": {
        "id": "nd-kpr-NsKbf",
        "colab_type": "code",
        "colab": {}
      }
    }
  ],
  "metadata": {
    "colab": {
      "name": "CIFAR-10 Dataset.ipynb",
      "version": "0.3.2",
      "provenance": [],
      "collapsed_sections": []
    },
    "kernelspec": {
      "name": "python3",
      "language": "python",
      "display_name": "Python 3 (ipykernel)"
    },
    "accelerator": "GPU",
    "language_info": {
      "name": "python",
      "version": "3.8.5",
      "mimetype": "text/x-python",
      "codemirror_mode": {
        "name": "ipython",
        "version": 3
      },
      "pygments_lexer": "ipython3",
      "nbconvert_exporter": "python",
      "file_extension": ".py"
    },
    "kernel_info": {
      "name": "python3"
    },
    "nteract": {
      "version": "nteract-front-end@1.0.0"
    },
    "microsoft": {
      "host": {
        "AzureML": {
          "notebookHasBeenCompleted": true
        }
      }
    }
  },
  "nbformat": 4,
  "nbformat_minor": 0
}